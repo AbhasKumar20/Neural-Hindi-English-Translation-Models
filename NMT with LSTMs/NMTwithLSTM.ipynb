{
  "nbformat": 4,
  "nbformat_minor": 0,
  "metadata": {
    "colab": {
      "name": "NMTChal.ipynb",
      "provenance": [],
      "collapsed_sections": [],
      "toc_visible": true
    },
    "kernelspec": {
      "display_name": "Python 3",
      "name": "python3"
    },
    "language_info": {
      "name": "python"
    }
  },
  "cells": [
    {
      "cell_type": "markdown",
      "metadata": {
        "id": "Y6nqfjUxo1Wr"
      },
      "source": [
        "# WITH 2 Layer uni-LSTM Encoder and Decoder\n",
        "\n"
      ]
    },
    {
      "cell_type": "code",
      "metadata": {
        "id": "SMFulbxq1Cda"
      },
      "source": [
        "!pip install -U pip setuptools wheel\n",
        "!pip install -U spacy\n",
        "!python -m spacy download en_core_web_sm\n",
        "!python -m spacy download en"
      ],
      "execution_count": null,
      "outputs": []
    },
    {
      "cell_type": "markdown",
      "metadata": {
        "id": "HDpqfhACCiKm"
      },
      "source": [
        "Importing the Indic Library for processing hindi Sentences. "
      ]
    },
    {
      "cell_type": "code",
      "metadata": {
        "id": "xIIXTPzb-smu",
        "colab": {
          "base_uri": "https://localhost:8080/"
        },
        "outputId": "d0e508fb-e5ee-4915-f97b-3609d149df67"
      },
      "source": [
        "!git clone \"https://github.com/anoopkunchukuttan/indic_nlp_library\"\n",
        "!git clone https://github.com/anoopkunchukuttan/indic_nlp_resources.git\n",
        "!pip install Morfessor"
      ],
      "execution_count": null,
      "outputs": [
        {
          "output_type": "stream",
          "text": [
            "fatal: destination path 'indic_nlp_library' already exists and is not an empty directory.\n",
            "fatal: destination path 'indic_nlp_resources' already exists and is not an empty directory.\n",
            "Requirement already satisfied: Morfessor in /usr/local/lib/python3.7/dist-packages (2.0.6)\n",
            "\u001b[33mWARNING: Running pip as root will break packages and permissions. You should install packages reliably by using venv: https://pip.pypa.io/warnings/venv\u001b[0m\n"
          ],
          "name": "stdout"
        }
      ]
    },
    {
      "cell_type": "code",
      "metadata": {
        "id": "M_nWs76o-uqu"
      },
      "source": [
        "# The path to the local git repo for Indic NLP library\n",
        "INDIC_NLP_LIB_HOME=r\"/content/indic_nlp_library\"\n",
        "\n",
        "# The path to the local git repo for Indic NLP Resources\n",
        "INDIC_NLP_RESOURCES=\"/content/indic_nlp_resources\""
      ],
      "execution_count": null,
      "outputs": []
    },
    {
      "cell_type": "markdown",
      "metadata": {
        "id": "inFjNEblC4mf"
      },
      "source": [
        "Importing all necessary packages and libraries for the given NMT."
      ]
    },
    {
      "cell_type": "code",
      "metadata": {
        "id": "At-1mIu8-3xw"
      },
      "source": [
        "import sys\n",
        "sys.path.append(r'{}'.format(INDIC_NLP_LIB_HOME))\n",
        "from indicnlp import common\n",
        "common.set_resources_path(INDIC_NLP_RESOURCES)\n",
        "from indicnlp import loader\n",
        "loader.load()\n",
        "import pandas as pd\n",
        "import csv\n",
        "from sklearn.model_selection import train_test_split\n",
        "import torch\n",
        "import torch.nn as nn\n",
        "import torch.optim as optim\n",
        "import numpy as np\n",
        "import random\n",
        "import math\n",
        "import time\n",
        "from indicnlp.tokenize import indic_tokenize  \n",
        "from torchtext.legacy.data import Field, BucketIterator, TabularDataset\n",
        "import spacy"
      ],
      "execution_count": null,
      "outputs": []
    },
    {
      "cell_type": "code",
      "metadata": {
        "id": "QflaqI0O_uhh"
      },
      "source": [
        "device = torch.device('cuda' if torch.cuda.is_available() else 'cpu')\n",
        "df=pd.read_csv('./drive/MyDrive/train/train.csv')\n",
        "df=df[['hindi','english']]\n",
        "train, val=train_test_split(df,test_size=0.02,random_state=42)\n",
        "train.to_csv('train.csv',index=False)\n",
        "val.to_csv('val.csv',index=False)\n",
        "df2=pd.read_csv('hindistatements.csv')\n",
        "df3=pd.read_csv('train.csv')\n",
        "\n",
        "with open('actual_test.csv', 'w') as file:\n",
        "     writer = csv.writer(file)\n",
        "     writer.writerow([\"hindi\", \"english\"])\n",
        "     for i in range(len(df2)):\n",
        "         writer.writerow([df2.iloc[i]['hindi'],df3.iloc[i]['english']])\n",
        "         \n",
        "df4=pd.read_csv('actual_test.csv')\n",
        "df4.to_csv('test.csv',index=False)"
      ],
      "execution_count": null,
      "outputs": []
    },
    {
      "cell_type": "code",
      "metadata": {
        "id": "lhzAVRye9qjq"
      },
      "source": [
        "spacy_en = spacy.load('en_core_web_sm')\n",
        "def tokenize_hindi(text):\n",
        "    \n",
        "    return [t for t in indic_tokenize.trivial_tokenize(text)]\n",
        "\n",
        "def tokenize_english(text):\n",
        "\n",
        "    return [tok.text for tok in spacy_en.tokenizer(text)]\n",
        "\n",
        "SRC = Field(tokenize = tokenize_hindi, \n",
        "            init_token = '<sos>', \n",
        "            eos_token = '<eos>', \n",
        "            lower = False,\n",
        "           )\n",
        "\n",
        "TRG = Field(tokenize = tokenize_english, \n",
        "            init_token = '<sos>', \n",
        "            eos_token = '<eos>', \n",
        "            lower = True)\n",
        "\n",
        "fields={'hindi': ('src',SRC),'english':('trg',TRG)}\n",
        "train_data, valid_data, test_data=TabularDataset.splits(\n",
        "    path='.',\n",
        "    train='train.csv',\n",
        "    validation='val.csv',\n",
        "    test='test.csv',\n",
        "    format='csv',\n",
        "    fields= fields,\n",
        ")\n",
        "\n",
        "SRC.build_vocab(train_data, min_freq = 2)\n",
        "TRG.build_vocab(train_data, min_freq = 2)\n",
        "\n",
        "train_iterator, valid_iterator, test_iterator = BucketIterator.splits(\n",
        "    (train_data, valid_data, test_data), \n",
        "    batch_size = 32 ,\n",
        "    sort_within_batch = True,\n",
        "    sort_key = lambda x: len(x.src),\n",
        "    device = device)"
      ],
      "execution_count": null,
      "outputs": []
    },
    {
      "cell_type": "code",
      "metadata": {
        "id": "NAEUT8wfvx-H"
      },
      "source": [
        "class Encoder(nn.Module):\n",
        "    def __init__(self, input_dim, emb_dim, hid_dim, n_layers, dropout):\n",
        "        super().__init__()\n",
        "        \n",
        "        self.hid_dim = hid_dim\n",
        "        self.n_layers = n_layers\n",
        "        self.embedding = nn.Embedding(input_dim, emb_dim)\n",
        "        self.rnn = nn.LSTM(emb_dim, hid_dim, n_layers, dropout = dropout)\n",
        "        self.dropout = nn.Dropout(dropout)\n",
        "        \n",
        "    def forward(self, src):\n",
        "        \n",
        "        \n",
        "        embedded = self.dropout(self.embedding(src))\n",
        "        outputs, (hidden, cell) = self.rnn(embedded)\n",
        "\n",
        "        return hidden, cell\n",
        "\n",
        "\n",
        "class Decoder(nn.Module):\n",
        "    def __init__(self, output_dim, emb_dim, hid_dim, n_layers, dropout):\n",
        "        super().__init__()\n",
        "        \n",
        "        self.output_dim = output_dim\n",
        "        self.hid_dim = hid_dim\n",
        "        self.n_layers = n_layers\n",
        "        self.embedding = nn.Embedding(output_dim, emb_dim)\n",
        "        self.rnn = nn.LSTM(emb_dim, hid_dim, n_layers, dropout = dropout)\n",
        "        self.fc_out = nn.Linear(hid_dim, output_dim)\n",
        "        self.dropout = nn.Dropout(dropout)\n",
        "\n",
        "    def forward(self, input, hidden, cell):\n",
        "        \n",
        "        input = input.unsqueeze(0)\n",
        "        embedded = self.dropout(self.embedding(input))      \n",
        "        output, (hidden, cell) = self.rnn(embedded, (hidden, cell))\n",
        "        prediction = self.fc_out(output.squeeze(0))\n",
        "        \n",
        "        return prediction, hidden, cell\n",
        "\n",
        "class Seq2Seq(nn.Module):\n",
        "    def __init__(self, encoder, decoder, device):\n",
        "        super().__init__()\n",
        "        \n",
        "        self.encoder = encoder\n",
        "        self.decoder = decoder\n",
        "        self.device = device\n",
        "        \n",
        "        assert encoder.hid_dim == decoder.hid_dim, \\\n",
        "            \" must be equal!\"\n",
        "        assert encoder.n_layers == decoder.n_layers, \\\n",
        "            \"equal number of layers!\"\n",
        "        \n",
        "    def forward(self, src, trg, teacher_forcing_ratio = 0.5):\n",
        "        \n",
        "        batch_size = trg.shape[1]\n",
        "        trg_len = trg.shape[0]\n",
        "        trg_vocab_size = self.decoder.output_dim\n",
        "        outputs = torch.zeros(trg_len, batch_size, trg_vocab_size).to(self.device)\n",
        "        hidden, cell = self.encoder(src)\n",
        "        input = trg[0,:]\n",
        "        \n",
        "        for t in range(1, trg_len):\n",
        "            \n",
        "            output, hidden, cell = self.decoder(input, hidden, cell)\n",
        "            outputs[t] = output\n",
        "            teacher_force = random.random() < teacher_forcing_ratio\n",
        "            top1 = output.argmax(1) \n",
        "            input = trg[t] if teacher_force else top1\n",
        "        \n",
        "        return outputs"
      ],
      "execution_count": null,
      "outputs": []
    },
    {
      "cell_type": "code",
      "metadata": {
        "id": "uhbZzGkt511C"
      },
      "source": [
        "\n",
        "enc = Encoder(len(SRC.vocab), 256, 512, 2, 0.5)\n",
        "dec = Decoder(len(TRG.vocab), 256, 512, 2, 0.5)\n",
        "\n",
        "model = Seq2Seq(enc, dec, device).to(device)\n",
        "\n",
        "def init_weights(m):\n",
        "    for name, param in m.named_parameters():\n",
        "        nn.init.uniform_(param.data, -0.08, 0.08)\n",
        "     \n",
        "model.apply(init_weights)\n",
        "\n",
        "optimizer = optim.Adam(model.parameters())\n",
        "TRG_PAD_IDX = TRG.vocab.stoi[TRG.pad_token]\n",
        "criterion = nn.CrossEntropyLoss(ignore_index = TRG_PAD_IDX)"
      ],
      "execution_count": null,
      "outputs": []
    },
    {
      "cell_type": "code",
      "metadata": {
        "id": "Wff0JNna6q9T"
      },
      "source": [
        "def train(model, iterator, optimizer, criterion, clip):\n",
        "    \n",
        "    model.train()\n",
        "    epoch_loss = 0\n",
        "    \n",
        "    for i, batch in enumerate(iterator):\n",
        "        \n",
        "        src = batch.src\n",
        "        trg = batch.trg\n",
        "        optimizer.zero_grad()\n",
        "        output = model(src, trg)\n",
        "        output_dim = output.shape[-1]\n",
        "        output = output[1:].view(-1, output_dim)\n",
        "        trg = trg[1:].view(-1)\n",
        "        loss = criterion(output, trg)\n",
        "        loss.backward()\n",
        "        torch.nn.utils.clip_grad_norm_(model.parameters(), clip)\n",
        "        optimizer.step()\n",
        "        epoch_loss += loss.item()\n",
        "        \n",
        "    return epoch_loss / len(iterator)\n",
        "\n",
        "def evaluate(model, iterator, criterion):\n",
        "    \n",
        "    model.eval()\n",
        "    epoch_loss = 0\n",
        "    \n",
        "    with torch.no_grad():\n",
        "    \n",
        "        for i, batch in enumerate(iterator):\n",
        "\n",
        "            src = batch.src\n",
        "            trg = batch.trg\n",
        "\n",
        "            output = model(src, trg, 0)\n",
        "            output_dim = output.shape[-1]\n",
        "            \n",
        "            output = output[1:].view(-1, output_dim)\n",
        "            trg = trg[1:].view(-1)\n",
        "            loss = criterion(output, trg)\n",
        "            epoch_loss += loss.item()\n",
        "        \n",
        "    return epoch_loss / len(iterator)"
      ],
      "execution_count": null,
      "outputs": []
    },
    {
      "cell_type": "code",
      "metadata": {
        "id": "6yDCJp3F7UYc"
      },
      "source": [
        "def epoch_time(start_time, end_time):\n",
        "    elapsed_time = end_time - start_time\n",
        "    elapsed_mins = int(elapsed_time / 60)\n",
        "    elapsed_secs = int(elapsed_time - (elapsed_mins * 60))\n",
        "    return elapsed_mins, elapsed_secs"
      ],
      "execution_count": null,
      "outputs": []
    },
    {
      "cell_type": "code",
      "metadata": {
        "colab": {
          "base_uri": "https://localhost:8080/"
        },
        "id": "7uP8ziNR7iY2",
        "outputId": "3010f22f-dc47-45e2-f9c6-6a60afe2bc5d"
      },
      "source": [
        "\n",
        "training_loss=[]\n",
        "validation_loss=[]\n",
        "best_valid_loss = float('inf')\n",
        "\n",
        "for epoch in range(10):\n",
        "    \n",
        "    start_time = time.time()\n",
        "    \n",
        "    train_loss = train(model, train_iterator, optimizer, criterion, 1)\n",
        "    training_loss.append(train_loss)\n",
        "    valid_loss = evaluate(model, valid_iterator, criterion)\n",
        "    validation_loss.append(valid_loss)\n",
        "    end_time = time.time()\n",
        "    \n",
        "    epoch_mins, epoch_secs = epoch_time(start_time, end_time)\n",
        "    \n",
        "    if valid_loss < best_valid_loss:\n",
        "        best_valid_loss = valid_loss\n",
        "        torch.save(model.state_dict(), '2LSTM.pt')\n",
        "    \n",
        "    print(f'Epoch: {epoch+1:02}')\n",
        "    print(f'Train Loss: {train_loss:.3f}')\n",
        "    print(f'Val. Loss: {valid_loss:.3f}')\n",
        "    print(\"=====================================================\")"
      ],
      "execution_count": null,
      "outputs": [
        {
          "output_type": "stream",
          "text": [
            "Epoch: 01\n",
            "Train Loss: 4.881\n",
            "Val. Loss: 4.743\n",
            "=====================================================\n",
            "Epoch: 02\n",
            "Train Loss: 4.212\n",
            "Val. Loss: 4.466\n",
            "=====================================================\n",
            "Epoch: 03\n",
            "Train Loss: 3.857\n",
            "Val. Loss: 4.342\n",
            "=====================================================\n",
            "Epoch: 04\n",
            "Train Loss: 3.580\n",
            "Val. Loss: 4.252\n",
            "=====================================================\n",
            "Epoch: 05\n",
            "Train Loss: 3.355\n",
            "Val. Loss: 4.205\n",
            "=====================================================\n",
            "Epoch: 06\n",
            "Train Loss: 3.168\n",
            "Val. Loss: 4.194\n",
            "=====================================================\n",
            "Epoch: 07\n",
            "Train Loss: 3.015\n",
            "Val. Loss: 4.198\n",
            "=====================================================\n",
            "Epoch: 08\n",
            "Train Loss: 2.890\n",
            "Val. Loss: 4.217\n",
            "=====================================================\n",
            "Epoch: 09\n",
            "Train Loss: 2.781\n",
            "Val. Loss: 4.241\n",
            "=====================================================\n",
            "Epoch: 10\n",
            "Train Loss: 2.685\n",
            "Val. Loss: 4.265\n",
            "=====================================================\n"
          ],
          "name": "stdout"
        }
      ]
    },
    {
      "cell_type": "code",
      "metadata": {
        "colab": {
          "base_uri": "https://localhost:8080/"
        },
        "id": "qysJSLESDy0_",
        "outputId": "40eb174e-23c7-4a05-d88a-1bc2ddd70580"
      },
      "source": [
        "print(training_loss)\n",
        "print(validation_loss)"
      ],
      "execution_count": null,
      "outputs": [
        {
          "output_type": "stream",
          "text": [
            "[4.881316395496667, 4.211683106407209, 3.85655080891751, 3.5799211834598363, 3.3553206841125562, 3.16809576316175, 3.01523053212461, 2.8901991181755493, 2.780895181822792, 2.6850299606600156]\n",
            "[4.742612112313509, 4.465935755521059, 4.3415204510092735, 4.251764938235283, 4.205137647688389, 4.193554386496544, 4.198031611740589, 4.217468999326229, 4.240992661565542, 4.265145502984524]\n"
          ],
          "name": "stdout"
        }
      ]
    },
    {
      "cell_type": "code",
      "metadata": {
        "colab": {
          "base_uri": "https://localhost:8080/"
        },
        "id": "5SbxZY6rL57J",
        "outputId": "14a29f97-6050-4fa3-8664-e4582858d5f3"
      },
      "source": [
        "model.load_state_dict(torch.load('2LSTM.pt'))\n",
        "example_idx = 66\n",
        "example = test_data.examples[example_idx]\n",
        "print('Hindi sentence:', ' '.join(example.src))\n",
        "\n",
        "src_tensor = SRC.process([example.src]).to(device)\n",
        "trg_tensor = TRG.process([example.trg]).to(device)\n",
        "\n",
        "model.eval()\n",
        "with torch.no_grad():\n",
        "    outputs = model(src_tensor, trg_tensor, teacher_forcing_ratio=0)\n",
        "\n",
        "output_idx = outputs[1:].squeeze(1).argmax(1)\n",
        "Predicted_English=' '.join([TRG.vocab.itos[idx] for idx in output_idx])\n",
        "print(\"Predicted_English:\", Predicted_English)"
      ],
      "execution_count": null,
      "outputs": [
        {
          "output_type": "stream",
          "text": [
            "Hindi sentence: क्यों ?\n",
            "Predicted_English: why ? ? <eos> <eos>\n"
          ],
          "name": "stdout"
        }
      ]
    }
  ]
}